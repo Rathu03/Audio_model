{
 "cells": [
  {
   "cell_type": "code",
   "execution_count": 4,
   "metadata": {},
   "outputs": [
    {
     "name": "stderr",
     "output_type": "stream",
     "text": [
      "d:\\FYP2\\Audio_model\\venv\\Lib\\site-packages\\tqdm\\auto.py:21: TqdmWarning: IProgress not found. Please update jupyter and ipywidgets. See https://ipywidgets.readthedocs.io/en/stable/user_install.html\n",
      "  from .autonotebook import tqdm as notebook_tqdm\n"
     ]
    }
   ],
   "source": [
    "import pandas as pd\n",
    "import numpy as np\n",
    "import torch\n",
    "import re\n",
    "import string\n",
    "from transformers import AutoTokenizer, AutoModelForSequenceClassification\n",
    "from tensorflow.keras.models import load_model\n",
    "from tensorflow.keras.preprocessing.sequence import pad_sequences\n",
    "import sentencepiece as spm\n",
    "from typing import List\n",
    "import joblib"
   ]
  },
  {
   "cell_type": "code",
   "execution_count": 5,
   "metadata": {},
   "outputs": [
    {
     "data": {
      "text/plain": [
       "True"
      ]
     },
     "execution_count": 5,
     "metadata": {},
     "output_type": "execute_result"
    }
   ],
   "source": [
    "sp = spm.SentencePieceProcessor()\n",
    "sp.Load(\"Tokenizer/Tanglish/taen_spm.model\")"
   ]
  },
  {
   "cell_type": "code",
   "execution_count": 6,
   "metadata": {},
   "outputs": [
    {
     "name": "stderr",
     "output_type": "stream",
     "text": [
      "WARNING:absl:Compiled the loaded model, but the compiled metrics have yet to be built. `model.compile_metrics` will be empty until you train or evaluate the model.\n",
      "Some weights of AlbertForSequenceClassification were not initialized from the model checkpoint at ai4bharat/indic-bert and are newly initialized: ['classifier.bias', 'classifier.weight']\n",
      "You should probably TRAIN this model on a down-stream task to be able to use it for predictions and inference.\n"
     ]
    }
   ],
   "source": [
    "bilstm_model = load_model(\"./Classification/bilstm_model1.h5\")\n",
    "\n",
    "# Load BERT Model\n",
    "model_name = \"ai4bharat/indic-bert\"\n",
    "tokenizer = AutoTokenizer.from_pretrained(model_name)\n",
    "model = AutoModelForSequenceClassification.from_pretrained(model_name, num_labels=2)\n",
    "model_path = \"ratish03/indic-BERT-Classification\"\n",
    "model.load_state_dict(torch.hub.load_state_dict_from_url(f\"https://huggingface.co/{model_path}/resolve/main/best_tanglish_model.pt\", map_location=torch.device('cpu')))\n",
    "\n",
    "device = torch.device(\"cuda\" if torch.cuda.is_available() else \"cpu\")\n",
    "model.to(device)\n",
    "\n",
    "meta_model = joblib.load(\"Classification/meta_model.pkl\")\n",
    "\n",
    "def remove_single_characters(tokens: List[str]) -> List[str]:\n",
    "    return [token for token in tokens if len(token) > 1]\n",
    "\n",
    "def clean_text(text: str) -> str:\n",
    "    text = re.sub(r'\\[.*?\\]', '', text)\n",
    "    text = re.sub(r'https?://\\S+|www\\.\\S+', '', text)\n",
    "    text = re.sub(r'<.*?>+', '', text)\n",
    "    text = re.sub(r'[%s]' % re.escape(string.punctuation), '', text)\n",
    "    text = re.sub(r'\\n', ' ', text)\n",
    "    text = re.sub(r'\\w*\\d\\w*', '', text)\n",
    "    return text\n",
    "\n",
    "def lower_case_everything(t: str) -> str:\n",
    "    return t.lower()\n",
    "\n",
    "def replace_all_caps(tokens: List[str]) -> List[str]:\n",
    "    return [f'xxup {t.lower()}' if t.isupper() else t for t in tokens]\n",
    "\n",
    "def deal_caps(tokens: List[str]) -> List[str]:\n",
    "    return [f'xxmaj {t}' if t.istitle() else t for t in tokens]\n",
    "\n",
    "def handle_all_caps(t: str) -> str:\n",
    "    tokens = t.split()\n",
    "    tokens = replace_all_caps(tokens)\n",
    "    return ' '.join(tokens)\n",
    "\n",
    "def handle_upper_case_first_letter(t: str) -> str:\n",
    "    tokens = t.split()\n",
    "    tokens = deal_caps(tokens)\n",
    "    return ' '.join(tokens)\n",
    "\n",
    "custom_pre_rules = [lower_case_everything, handle_all_caps, handle_upper_case_first_letter]\n",
    "\n",
    "def preprocess_text1(text: str) -> str:\n",
    "    text = clean_text(str(text))\n",
    "    for rule in custom_pre_rules:\n",
    "        text = rule(text)\n",
    "    return text\n",
    "\n",
    "# Preprocessing function\n",
    "def preprocess_text(text: str) -> str:\n",
    "    text = re.sub(r'[^a-zA-Z0-9\\s]', '', text)  # Remove special characters\n",
    "    return text.lower()\n",
    "\n",
    "# Tokenize with BiLSTM Tokenizer\n",
    "class CodeMixedTanglishTokenizer:\n",
    "    def __init__(self, model_path: str):\n",
    "        self.sp = spm.SentencePieceProcessor()\n",
    "        self.sp.Load(model_path)\n",
    "    def tokenizer(self, items):\n",
    "        return [self.sp.EncodeAsPieces(t) for t in items]\n",
    "\n",
    "tanglish_tokenizer = CodeMixedTanglishTokenizer(\"./Tokenizer/Tanglish/taen_spm.model\")\n",
    "\n",
    "def predict_bilstm(text):\n",
    "    test_text = [text]\n",
    "    cleaned_text = [preprocess_text1(t) for t in test_text]\n",
    "    tokenized = tanglish_tokenizer.tokenizer(cleaned_text)\n",
    "    encoded = [sp.PieceToId(piece) for text in tokenized for piece in text]\n",
    "    padded = pad_sequences([encoded], maxlen=70, padding=\"post\")\n",
    "    predictions = bilstm_model.predict(padded)\n",
    "    confidence = np.max(predictions)\n",
    "    label = np.argmax(predictions)\n",
    "    return label, confidence\n",
    "\n",
    "def predict_bert(text, model, tokenizer, device, max_len=128):\n",
    "    model.eval()\n",
    "    encoding = tokenizer(\n",
    "        text,\n",
    "        truncation=True,\n",
    "        padding='max_length',\n",
    "        max_length=max_len,\n",
    "        return_tensors='pt'\n",
    "    )\n",
    "    input_ids = encoding['input_ids'].to(device)\n",
    "    attention_mask = encoding['attention_mask'].to(device)\n",
    "    with torch.no_grad():\n",
    "        outputs = model(input_ids=input_ids, attention_mask=attention_mask)\n",
    "        logits = outputs.logits\n",
    "        probs = torch.softmax(logits, dim=1)\n",
    "        prediction = torch.argmax(logits, dim=1).item()\n",
    "    return prediction, probs[0][prediction].item()\n",
    "\n",
    "def predict_category(bilstm_label, bilstm_confidence, bert_label, bert_confidence):\n",
    "    input_data = np.array([[bilstm_label, bilstm_confidence, bert_label, bert_confidence]])\n",
    "    prediction = meta_model.predict(input_data)\n",
    "    return prediction[0]"
   ]
  },
  {
   "cell_type": "code",
   "execution_count": 7,
   "metadata": {},
   "outputs": [
    {
     "name": "stderr",
     "output_type": "stream",
     "text": [
      "WARNING:absl:Compiled the loaded model, but the compiled metrics have yet to be built. `model.compile_metrics` will be empty until you train or evaluate the model.\n"
     ]
    }
   ],
   "source": [
    "meta_model = load_model(\"Classification/meta_model_neural.h5\")\n",
    "scaler = joblib.load(\"Classification/scaler.pkl\")"
   ]
  },
  {
   "cell_type": "code",
   "execution_count": 8,
   "metadata": {},
   "outputs": [],
   "source": [
    "def predict_category1(bilstm_label, bilstm_confidence, bert_label, bert_confidence):\n",
    "    input_data = np.array([[bilstm_label, bilstm_confidence, bert_label, bert_confidence]])\n",
    "    input_data = scaler.transform(input_data)  # Normalize the input\n",
    "    prediction = meta_model.predict(input_data)\n",
    "    predicted_category = 1 if prediction[0] > 0.5 else 0  # Convert probability to class label\n",
    "    return predicted_category"
   ]
  },
  {
   "cell_type": "code",
   "execution_count": 8,
   "metadata": {},
   "outputs": [
    {
     "name": "stdout",
     "output_type": "stream",
     "text": [
      "\u001b[1m1/1\u001b[0m \u001b[32m━━━━━━━━━━━━━━━━━━━━\u001b[0m\u001b[37m\u001b[0m \u001b[1m0s\u001b[0m 53ms/step\n",
      "punda ---> 1\n",
      "\u001b[1m1/1\u001b[0m \u001b[32m━━━━━━━━━━━━━━━━━━━━\u001b[0m\u001b[37m\u001b[0m \u001b[1m0s\u001b[0m 42ms/step\n"
     ]
    },
    {
     "name": "stderr",
     "output_type": "stream",
     "text": [
      "d:\\FYP2\\Audio_model\\venv\\Lib\\site-packages\\sklearn\\utils\\validation.py:2739: UserWarning: X does not have valid feature names, but RandomForestClassifier was fitted with feature names\n",
      "  warnings.warn(\n"
     ]
    },
    {
     "name": "stdout",
     "output_type": "stream",
     "text": [
      "mavane ---> 0\n"
     ]
    },
    {
     "name": "stderr",
     "output_type": "stream",
     "text": [
      "d:\\FYP2\\Audio_model\\venv\\Lib\\site-packages\\sklearn\\utils\\validation.py:2739: UserWarning: X does not have valid feature names, but RandomForestClassifier was fitted with feature names\n",
      "  warnings.warn(\n"
     ]
    }
   ],
   "source": [
    "l = [\"punda\",\"mavane\"]\n",
    "for t in l:\n",
    "    bilstm_label, bilstm_conf = predict_bilstm(t)\n",
    "    bert_label, bert_conf = predict_bert(t,model,tokenizer,device)\n",
    "\n",
    "    predicted_category = predict_category(bilstm_label,bilstm_conf,bert_label,bert_conf)\n",
    "    print(f\"{t} ---> {predicted_category}\")"
   ]
  },
  {
   "cell_type": "code",
   "execution_count": 40,
   "metadata": {},
   "outputs": [
    {
     "name": "stdout",
     "output_type": "stream",
     "text": [
      "\u001b[1m1/1\u001b[0m \u001b[32m━━━━━━━━━━━━━━━━━━━━\u001b[0m\u001b[37m\u001b[0m \u001b[1m0s\u001b[0m 102ms/step\n",
      "\u001b[1m1/1\u001b[0m \u001b[32m━━━━━━━━━━━━━━━━━━━━\u001b[0m\u001b[37m\u001b[0m \u001b[1m0s\u001b[0m 39ms/step\n",
      "umae ---> 0\n"
     ]
    },
    {
     "name": "stderr",
     "output_type": "stream",
     "text": [
      "d:\\FYP2\\Audio_model\\venv\\Lib\\site-packages\\sklearn\\utils\\validation.py:2739: UserWarning: X does not have valid feature names, but StandardScaler was fitted with feature names\n",
      "  warnings.warn(\n"
     ]
    }
   ],
   "source": [
    "l = [\"umae\"]\n",
    "for t in l:\n",
    "    bilstm_label, bilstm_conf = predict_bilstm(t)\n",
    "    bert_label, bert_conf = predict_bert(t,model,tokenizer,device)\n",
    "\n",
    "    predicted_category = predict_category1(bilstm_label,bilstm_conf,bert_label,bert_conf)\n",
    "    print(f\"{t} ---> {predicted_category}\")"
   ]
  },
  {
   "cell_type": "code",
   "execution_count": null,
   "metadata": {},
   "outputs": [],
   "source": []
  }
 ],
 "metadata": {
  "kernelspec": {
   "display_name": "venv",
   "language": "python",
   "name": "python3"
  },
  "language_info": {
   "codemirror_mode": {
    "name": "ipython",
    "version": 3
   },
   "file_extension": ".py",
   "mimetype": "text/x-python",
   "name": "python",
   "nbconvert_exporter": "python",
   "pygments_lexer": "ipython3",
   "version": "3.12.6"
  }
 },
 "nbformat": 4,
 "nbformat_minor": 2
}
