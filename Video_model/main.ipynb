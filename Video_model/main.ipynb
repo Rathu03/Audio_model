{
 "cells": [
  {
   "cell_type": "code",
   "execution_count": 1,
   "metadata": {},
   "outputs": [
    {
     "name": "stdout",
     "output_type": "stream",
     "text": [
      "Creating new Ultralytics Settings v0.0.6 file  \n",
      "View Ultralytics Settings with 'yolo settings' or at 'C:\\Users\\temp\\AppData\\Roaming\\Ultralytics\\settings.json'\n",
      "Update Settings with 'yolo settings key=value', i.e. 'yolo settings runs_dir=path/to/dir'. For help see https://docs.ultralytics.com/quickstart/#ultralytics-settings.\n"
     ]
    }
   ],
   "source": [
    "from ultralytics import YOLO"
   ]
  },
  {
   "cell_type": "code",
   "execution_count": 2,
   "metadata": {},
   "outputs": [
    {
     "name": "stdout",
     "output_type": "stream",
     "text": [
      "Downloading https://github.com/ultralytics/assets/releases/download/v8.3.0/yolov8n.pt to 'yolov8n.pt'...\n"
     ]
    },
    {
     "name": "stderr",
     "output_type": "stream",
     "text": [
      "100%|██████████| 6.25M/6.25M [00:01<00:00, 3.42MB/s]\n"
     ]
    }
   ],
   "source": [
    "model0 = YOLO(\"yolov8n.pt\")"
   ]
  },
  {
   "cell_type": "code",
   "execution_count": 8,
   "metadata": {},
   "outputs": [],
   "source": [
    "model1 = YOLO(\"./Yolo_models/bottle_detection_model/weights/best.pt\")\n",
    "model2 = YOLO(\"./Yolo_models/Blood/weights/best.pt\")\n",
    "model3 = YOLO(\"./Yolo_models/License_Plate/weights/best.pt\")\n",
    "model4 = YOLO(\"./Yolo_models/Smoke/weights/best.pt\")"
   ]
  },
  {
   "cell_type": "code",
   "execution_count": 5,
   "metadata": {},
   "outputs": [],
   "source": [
    "import cv2\n",
    "import os"
   ]
  },
  {
   "cell_type": "code",
   "execution_count": 6,
   "metadata": {},
   "outputs": [],
   "source": [
    "image_path = \"./Inputs/bl.jpeg\"\n",
    "OUTPUT_DIR = \"./Outputs\"\n",
    "os.makedirs(OUTPUT_DIR, exist_ok=True)"
   ]
  },
  {
   "cell_type": "code",
   "execution_count": 9,
   "metadata": {},
   "outputs": [
    {
     "name": "stdout",
     "output_type": "stream",
     "text": [
      "\n"
     ]
    },
    {
     "name": "stdout",
     "output_type": "stream",
     "text": [
      "0: 544x640 (no detections), 315.5ms\n",
      "Speed: 12.1ms preprocess, 315.5ms inference, 1.6ms postprocess per image at shape (1, 3, 544, 640)\n",
      "\n",
      "0: 544x640 (no detections), 281.0ms\n",
      "Speed: 6.2ms preprocess, 281.0ms inference, 1.2ms postprocess per image at shape (1, 3, 544, 640)\n",
      "\n",
      "0: 544x640 1 blood, 283.4ms\n",
      "Speed: 7.0ms preprocess, 283.4ms inference, 2.2ms postprocess per image at shape (1, 3, 544, 640)\n",
      "\n",
      "0: 544x640 (no detections), 253.9ms\n",
      "Speed: 5.1ms preprocess, 253.9ms inference, 0.5ms postprocess per image at shape (1, 3, 544, 640)\n",
      "\n",
      "0: 544x640 (no detections), 298.6ms\n",
      "Speed: 4.1ms preprocess, 298.6ms inference, 0.4ms postprocess per image at shape (1, 3, 544, 640)\n",
      "\n",
      "Detected Objects:\n",
      "Class: blood, X: 41, Y: 102, Width: 166, Height: 81\n",
      "\n",
      "Detection completed. Filtered image saved at: ./Outputs\\filtered_detected_image.jpg\n"
     ]
    }
   ],
   "source": [
    "image = cv2.imread(image_path)\n",
    "\n",
    "# Run both models on the image\n",
    "results0 = model0(image)[0]\n",
    "results1 = model1(image)[0]\n",
    "results2 = model2(image)[0]\n",
    "results3 = model3(image)[0]\n",
    "results4 = model4(image)[0]\n",
    "\n",
    "# Classes detected\n",
    "detected_objects = []\n",
    "\n",
    "# Function to process results\n",
    "def process_results(results, detected_objects):\n",
    "    for result in results.boxes.data.tolist():\n",
    "        x1, y1, x2, y2, score, class_id = result\n",
    "        width = int(x2 - x1)\n",
    "        height = int(y2 - y1)\n",
    "        x, y = int(x1), int(y1)\n",
    "        class_name = results.names[int(class_id)]\n",
    "\n",
    "        # Only save if a class is detected\n",
    "        detected_objects.append((class_name, x, y, width, height))\n",
    "\n",
    "# Process both models\n",
    "process_results(results0, detected_objects)\n",
    "process_results(results1, detected_objects)\n",
    "process_results(results2, detected_objects)\n",
    "process_results(results3, detected_objects)\n",
    "process_results(results4, detected_objects)\n",
    "\n",
    "# Remove duplicates (same object detected by both models)\n",
    "unique_detections = {f\"{obj[0]}_{obj[1]}_{obj[2]}\": obj for obj in detected_objects}.values()\n",
    "\n",
    "# Print results\n",
    "print(\"\\nDetected Objects:\")\n",
    "for class_name, x, y, width, height in unique_detections:\n",
    "    print(f\"Class: {class_name}, X: {x}, Y: {y}, Width: {width}, Height: {height}\")\n",
    "\n",
    "    # Draw bounding box\n",
    "    cv2.rectangle(image, (x, y), (x + width, y + height), (255, 0, 0), 2)\n",
    "    label = f\"{class_name}\"\n",
    "    cv2.putText(image, label, (x, y - 10), cv2.FONT_HERSHEY_SIMPLEX, 0.5, (255, 0, 0), 2)\n",
    "\n",
    "# Save the detected image\n",
    "output_image_path = os.path.join(OUTPUT_DIR, \"filtered_detected_image.jpg\")\n",
    "cv2.imwrite(output_image_path, image)\n",
    "\n",
    "print(f\"\\nDetection completed. Filtered image saved at: {output_image_path}\")"
   ]
  },
  {
   "cell_type": "code",
   "execution_count": null,
   "metadata": {},
   "outputs": [],
   "source": []
  }
 ],
 "metadata": {
  "kernelspec": {
   "display_name": "venv",
   "language": "python",
   "name": "python3"
  },
  "language_info": {
   "codemirror_mode": {
    "name": "ipython",
    "version": 3
   },
   "file_extension": ".py",
   "mimetype": "text/x-python",
   "name": "python",
   "nbconvert_exporter": "python",
   "pygments_lexer": "ipython3",
   "version": "3.12.6"
  }
 },
 "nbformat": 4,
 "nbformat_minor": 2
}
