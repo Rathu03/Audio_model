{
 "cells": [
  {
   "cell_type": "code",
   "execution_count": 3,
   "metadata": {},
   "outputs": [],
   "source": [
    "import pandas as pd\n",
    "import re\n",
    "import string\n",
    "import numpy as np\n",
    "import sentencepiece as spm\n",
    "import tensorflow as tf\n",
    "from tensorflow.keras.preprocessing.sequence import pad_sequences\n",
    "from tensorflow.keras.models import Sequential\n",
    "from tensorflow.keras.layers import Embedding, LSTM, Bidirectional, Dense, Dropout, SpatialDropout1D\n",
    "from tensorflow.keras.optimizers import Adam\n",
    "from sklearn.model_selection import train_test_split\n",
    "from sklearn.metrics import classification_report, accuracy_score\n",
    "from typing import List\n"
   ]
  },
  {
   "cell_type": "code",
   "execution_count": 48,
   "metadata": {},
   "outputs": [],
   "source": [
    "MAX_SEQUENCE_LENGTH = 70  # Max length of input sequences\n",
    "EMBEDDING_DIM = 128        # Word embedding dimension\n",
    "LSTM_UNITS = 128           # LSTM units\n",
    "BATCH_SIZE = 32\n",
    "EPOCHS = 10"
   ]
  },
  {
   "cell_type": "code",
   "execution_count": 49,
   "metadata": {},
   "outputs": [],
   "source": [
    "def remove_single_characters(tokens: List[str]) -> List[str]:\n",
    "    \"\"\"Removes single-character tokens.\"\"\"\n",
    "    return [token for token in tokens if len(token) > 1]"
   ]
  },
  {
   "cell_type": "code",
   "execution_count": 50,
   "metadata": {},
   "outputs": [],
   "source": [
    "def clean_text(text: str) -> str:\n",
    "    \"\"\"Cleans text by removing unwanted symbols, URLs, HTML, and numbers.\"\"\"\n",
    "    text = re.sub(r'\\[.*?\\]', '', text)  # Remove text inside brackets\n",
    "    text = re.sub(r'https?://\\S+|www\\.\\S+', '', text)  # Remove URLs\n",
    "    text = re.sub(r'<.*?>+', '', text)  # Remove HTML tags\n",
    "    text = re.sub(r'[%s]' % re.escape(string.punctuation), '', text)  # Remove punctuation\n",
    "    text = re.sub(r'\\n', ' ', text)  # Remove newlines\n",
    "    text = re.sub(r'\\w*\\d\\w*', '', text)  # Remove words containing numbers\n",
    "    return text"
   ]
  },
  {
   "cell_type": "code",
   "execution_count": 51,
   "metadata": {},
   "outputs": [],
   "source": [
    "def lower_case_everything(t: str) -> str:\n",
    "    return t.lower()\n",
    "\n",
    "def replace_all_caps(tokens: List[str]) -> List[str]:\n",
    "    return [f'xxup {t.lower()}' if t.isupper() else t for t in tokens]\n",
    "\n",
    "def deal_caps(tokens: List[str]) -> List[str]:\n",
    "    return [f'xxmaj {t}' if t.istitle() else t for t in tokens]\n",
    "\n",
    "def handle_all_caps(t: str) -> str:\n",
    "    tokens = t.split()\n",
    "    tokens = replace_all_caps(tokens)\n",
    "    return ' '.join(tokens)\n",
    "\n",
    "def handle_upper_case_first_letter(t: str) -> str:\n",
    "    tokens = t.split()\n",
    "    tokens = deal_caps(tokens)\n",
    "    return ' '.join(tokens)"
   ]
  },
  {
   "cell_type": "code",
   "execution_count": 52,
   "metadata": {},
   "outputs": [],
   "source": [
    "custom_pre_rules = [lower_case_everything, handle_all_caps, handle_upper_case_first_letter]"
   ]
  },
  {
   "cell_type": "code",
   "execution_count": 53,
   "metadata": {},
   "outputs": [],
   "source": [
    "def preprocess_text(text: str) -> str:\n",
    "    \"\"\"Applies all preprocessing rules.\"\"\"\n",
    "    text = clean_text(str(text))\n",
    "    for rule in custom_pre_rules:\n",
    "        text = rule(text)\n",
    "    return text"
   ]
  },
  {
   "cell_type": "code",
   "execution_count": 54,
   "metadata": {},
   "outputs": [],
   "source": [
    "class CodeMixedTanglishTokenizer:\n",
    "    def __init__(self, model_path: str):\n",
    "        self.sp = spm.SentencePieceProcessor()\n",
    "        self.sp.Load(model_path)\n",
    "\n",
    "    def __call__(self, items: List[str]) -> List[List[str]]:  \n",
    "        return [self.sp.EncodeAsPieces(t) for t in items]\n",
    "\n",
    "    def tokenizer(self, items: List[str]) -> List[List[str]]:\n",
    "        return [self.sp.EncodeAsPieces(t) for t in items]"
   ]
  },
  {
   "cell_type": "code",
   "execution_count": 55,
   "metadata": {},
   "outputs": [],
   "source": [
    "tokenizer = CodeMixedTanglishTokenizer(\"../Tokenizer/Tanglish/taen_spm.model\")"
   ]
  },
  {
   "cell_type": "code",
   "execution_count": 56,
   "metadata": {},
   "outputs": [
    {
     "data": {
      "text/plain": [
       "['▁otha', '▁ootha']"
      ]
     },
     "execution_count": 56,
     "metadata": {},
     "output_type": "execute_result"
    }
   ],
   "source": [
    "tokenizer.sp.EncodeAsPieces(\"otha ootha\")\n"
   ]
  },
  {
   "cell_type": "code",
   "execution_count": 57,
   "metadata": {},
   "outputs": [],
   "source": [
    "df = pd.read_csv(\"../Dataset/Main/main_dataset.csv\")"
   ]
  },
  {
   "cell_type": "code",
   "execution_count": 58,
   "metadata": {},
   "outputs": [
    {
     "data": {
      "text/plain": [
       "{'NOT', 'OFF', 'OFf', 'label', 'not'}"
      ]
     },
     "execution_count": 58,
     "metadata": {},
     "output_type": "execute_result"
    }
   ],
   "source": [
    "y = np.array(df['category'])\n",
    "s = set(y)\n",
    "s"
   ]
  },
  {
   "cell_type": "code",
   "execution_count": 59,
   "metadata": {},
   "outputs": [
    {
     "name": "stdout",
     "output_type": "stream",
     "text": [
      "Before:  13255\n",
      "After:  13252\n"
     ]
    }
   ],
   "source": [
    "print(\"Before: \",len(df))\n",
    "unwanted_labels = {'OFf','label','not'}\n",
    "df = df[~df['category'].isin(unwanted_labels)]\n",
    "print(\"After: \",len(df))"
   ]
  },
  {
   "cell_type": "code",
   "execution_count": 60,
   "metadata": {},
   "outputs": [],
   "source": [
    "label_mapping = {\n",
    "    \"NOT\" : 0,\n",
    "    \"OFF\" : 1\n",
    "}"
   ]
  },
  {
   "cell_type": "code",
   "execution_count": 61,
   "metadata": {},
   "outputs": [
    {
     "data": {
      "text/html": [
       "<div>\n",
       "<style scoped>\n",
       "    .dataframe tbody tr th:only-of-type {\n",
       "        vertical-align: middle;\n",
       "    }\n",
       "\n",
       "    .dataframe tbody tr th {\n",
       "        vertical-align: top;\n",
       "    }\n",
       "\n",
       "    .dataframe thead th {\n",
       "        text-align: right;\n",
       "    }\n",
       "</style>\n",
       "<table border=\"1\" class=\"dataframe\">\n",
       "  <thead>\n",
       "    <tr style=\"text-align: right;\">\n",
       "      <th></th>\n",
       "      <th>text</th>\n",
       "      <th>category</th>\n",
       "    </tr>\n",
       "  </thead>\n",
       "  <tbody>\n",
       "    <tr>\n",
       "      <th>0</th>\n",
       "      <td>#  #  #  # #  #  #  #     Yesus Kristus adalah...</td>\n",
       "      <td>NOT</td>\n",
       "    </tr>\n",
       "    <tr>\n",
       "      <th>1</th>\n",
       "      <td># 1 TRENDING.... NEVER EVER GIVE UP....</td>\n",
       "      <td>NOT</td>\n",
       "    </tr>\n",
       "    <tr>\n",
       "      <th>2</th>\n",
       "      <td># I set your screens on # Vaa thalaiva#</td>\n",
       "      <td>NOT</td>\n",
       "    </tr>\n",
       "    <tr>\n",
       "      <th>3</th>\n",
       "      <td>#1 Trending in Singapore #9 Australia.</td>\n",
       "      <td>NOT</td>\n",
       "    </tr>\n",
       "    <tr>\n",
       "      <th>4</th>\n",
       "      <td>#aarambam --ajith,  arya compo🤩  #Kaappan ---s...</td>\n",
       "      <td>NOT</td>\n",
       "    </tr>\n",
       "  </tbody>\n",
       "</table>\n",
       "</div>"
      ],
      "text/plain": [
       "                                                text category\n",
       "0  #  #  #  # #  #  #  #     Yesus Kristus adalah...      NOT\n",
       "1            # 1 TRENDING.... NEVER EVER GIVE UP....      NOT\n",
       "2            # I set your screens on # Vaa thalaiva#      NOT\n",
       "3             #1 Trending in Singapore #9 Australia.      NOT\n",
       "4  #aarambam --ajith,  arya compo🤩  #Kaappan ---s...      NOT"
      ]
     },
     "execution_count": 61,
     "metadata": {},
     "output_type": "execute_result"
    }
   ],
   "source": [
    "df.head()"
   ]
  },
  {
   "cell_type": "code",
   "execution_count": 62,
   "metadata": {},
   "outputs": [
    {
     "data": {
      "text/html": [
       "<div>\n",
       "<style scoped>\n",
       "    .dataframe tbody tr th:only-of-type {\n",
       "        vertical-align: middle;\n",
       "    }\n",
       "\n",
       "    .dataframe tbody tr th {\n",
       "        vertical-align: top;\n",
       "    }\n",
       "\n",
       "    .dataframe thead th {\n",
       "        text-align: right;\n",
       "    }\n",
       "</style>\n",
       "<table border=\"1\" class=\"dataframe\">\n",
       "  <thead>\n",
       "    <tr style=\"text-align: right;\">\n",
       "      <th></th>\n",
       "      <th>text</th>\n",
       "      <th>category</th>\n",
       "    </tr>\n",
       "  </thead>\n",
       "  <tbody>\n",
       "    <tr>\n",
       "      <th>0</th>\n",
       "      <td>#  #  #  # #  #  #  #     Yesus Kristus adalah...</td>\n",
       "      <td>0</td>\n",
       "    </tr>\n",
       "    <tr>\n",
       "      <th>1</th>\n",
       "      <td># 1 TRENDING.... NEVER EVER GIVE UP....</td>\n",
       "      <td>0</td>\n",
       "    </tr>\n",
       "    <tr>\n",
       "      <th>2</th>\n",
       "      <td># I set your screens on # Vaa thalaiva#</td>\n",
       "      <td>0</td>\n",
       "    </tr>\n",
       "    <tr>\n",
       "      <th>3</th>\n",
       "      <td>#1 Trending in Singapore #9 Australia.</td>\n",
       "      <td>0</td>\n",
       "    </tr>\n",
       "    <tr>\n",
       "      <th>4</th>\n",
       "      <td>#aarambam --ajith,  arya compo🤩  #Kaappan ---s...</td>\n",
       "      <td>0</td>\n",
       "    </tr>\n",
       "  </tbody>\n",
       "</table>\n",
       "</div>"
      ],
      "text/plain": [
       "                                                text  category\n",
       "0  #  #  #  # #  #  #  #     Yesus Kristus adalah...         0\n",
       "1            # 1 TRENDING.... NEVER EVER GIVE UP....         0\n",
       "2            # I set your screens on # Vaa thalaiva#         0\n",
       "3             #1 Trending in Singapore #9 Australia.         0\n",
       "4  #aarambam --ajith,  arya compo🤩  #Kaappan ---s...         0"
      ]
     },
     "execution_count": 62,
     "metadata": {},
     "output_type": "execute_result"
    }
   ],
   "source": [
    "df[\"category\"] = df[\"category\"].map(label_mapping)\n",
    "df.head()"
   ]
  },
  {
   "cell_type": "code",
   "execution_count": 63,
   "metadata": {},
   "outputs": [
    {
     "data": {
      "text/html": [
       "<div>\n",
       "<style scoped>\n",
       "    .dataframe tbody tr th:only-of-type {\n",
       "        vertical-align: middle;\n",
       "    }\n",
       "\n",
       "    .dataframe tbody tr th {\n",
       "        vertical-align: top;\n",
       "    }\n",
       "\n",
       "    .dataframe thead th {\n",
       "        text-align: right;\n",
       "    }\n",
       "</style>\n",
       "<table border=\"1\" class=\"dataframe\">\n",
       "  <thead>\n",
       "    <tr style=\"text-align: right;\">\n",
       "      <th></th>\n",
       "      <th>text</th>\n",
       "      <th>category</th>\n",
       "    </tr>\n",
       "  </thead>\n",
       "  <tbody>\n",
       "    <tr>\n",
       "      <th>0</th>\n",
       "      <td>yesus kristus adalah anak allah yang mati dan ...</td>\n",
       "      <td>0</td>\n",
       "    </tr>\n",
       "    <tr>\n",
       "      <th>1</th>\n",
       "      <td>trending never ever give up</td>\n",
       "      <td>0</td>\n",
       "    </tr>\n",
       "    <tr>\n",
       "      <th>2</th>\n",
       "      <td>i set your screens on vaa thalaiva</td>\n",
       "      <td>0</td>\n",
       "    </tr>\n",
       "    <tr>\n",
       "      <th>3</th>\n",
       "      <td>trending in singapore australia</td>\n",
       "      <td>0</td>\n",
       "    </tr>\n",
       "    <tr>\n",
       "      <th>4</th>\n",
       "      <td>aarambam ajith arya compo🤩 kaappan surya arya ...</td>\n",
       "      <td>0</td>\n",
       "    </tr>\n",
       "  </tbody>\n",
       "</table>\n",
       "</div>"
      ],
      "text/plain": [
       "                                                text  category\n",
       "0  yesus kristus adalah anak allah yang mati dan ...         0\n",
       "1                        trending never ever give up         0\n",
       "2                 i set your screens on vaa thalaiva         0\n",
       "3                    trending in singapore australia         0\n",
       "4  aarambam ajith arya compo🤩 kaappan surya arya ...         0"
      ]
     },
     "execution_count": 63,
     "metadata": {},
     "output_type": "execute_result"
    }
   ],
   "source": [
    "df[\"text\"] = df[\"text\"].apply(preprocess_text)\n",
    "df.head()"
   ]
  },
  {
   "cell_type": "code",
   "execution_count": 64,
   "metadata": {},
   "outputs": [
    {
     "data": {
      "text/html": [
       "<div>\n",
       "<style scoped>\n",
       "    .dataframe tbody tr th:only-of-type {\n",
       "        vertical-align: middle;\n",
       "    }\n",
       "\n",
       "    .dataframe tbody tr th {\n",
       "        vertical-align: top;\n",
       "    }\n",
       "\n",
       "    .dataframe thead th {\n",
       "        text-align: right;\n",
       "    }\n",
       "</style>\n",
       "<table border=\"1\" class=\"dataframe\">\n",
       "  <thead>\n",
       "    <tr style=\"text-align: right;\">\n",
       "      <th></th>\n",
       "      <th>text</th>\n",
       "      <th>category</th>\n",
       "      <th>tokens</th>\n",
       "    </tr>\n",
       "  </thead>\n",
       "  <tbody>\n",
       "    <tr>\n",
       "      <th>78</th>\n",
       "      <td>user varushama oombinu irukan thayoli sotta ko...</td>\n",
       "      <td>1</td>\n",
       "      <td>[▁user, ▁varushama, ▁oombi, nu, ▁irukan, ▁thay...</td>\n",
       "    </tr>\n",
       "    <tr>\n",
       "      <th>79</th>\n",
       "      <td>user hit neegro koothi vijuvoli</td>\n",
       "      <td>1</td>\n",
       "      <td>[▁user, ▁hit, ▁nee, gro, ▁koothi, ▁viju, voli]</td>\n",
       "    </tr>\n",
       "    <tr>\n",
       "      <th>80</th>\n",
       "      <td>user years old at the last year oru clean hit ...</td>\n",
       "      <td>1</td>\n",
       "      <td>[▁user, ▁years, ▁old, ▁at, ▁the, ▁last, ▁year,...</td>\n",
       "    </tr>\n",
       "    <tr>\n",
       "      <th>81</th>\n",
       "      <td>user million subscribers irukura app da kavin ...</td>\n",
       "      <td>1</td>\n",
       "      <td>[▁user, ▁million, ▁subscribers, ▁irukura, ▁app...</td>\n",
       "    </tr>\n",
       "    <tr>\n",
       "      <th>82</th>\n",
       "      <td>user pera follow pannuvan but id ya tag pannuv...</td>\n",
       "      <td>0</td>\n",
       "      <td>[▁user, ▁pera, ▁follow, ▁pannuvan, ▁but, ▁id, ...</td>\n",
       "    </tr>\n",
       "    <tr>\n",
       "      <th>83</th>\n",
       "      <td>user day post semaya podunga vaalthukkalore ma...</td>\n",
       "      <td>0</td>\n",
       "      <td>[▁user, ▁day, ▁post, ▁semaya, ▁podunga, ▁vaalt...</td>\n",
       "    </tr>\n",
       "    <tr>\n",
       "      <th>84</th>\n",
       "      <td>user la out of persons chennai illa remaining ...</td>\n",
       "      <td>0</td>\n",
       "      <td>[▁user, ▁la, ▁out, ▁of, ▁persons, ▁chennai, ▁i...</td>\n",
       "    </tr>\n",
       "  </tbody>\n",
       "</table>\n",
       "</div>"
      ],
      "text/plain": [
       "                                                 text  category  \\\n",
       "78  user varushama oombinu irukan thayoli sotta ko...         1   \n",
       "79                    user hit neegro koothi vijuvoli         1   \n",
       "80  user years old at the last year oru clean hit ...         1   \n",
       "81  user million subscribers irukura app da kavin ...         1   \n",
       "82  user pera follow pannuvan but id ya tag pannuv...         0   \n",
       "83  user day post semaya podunga vaalthukkalore ma...         0   \n",
       "84  user la out of persons chennai illa remaining ...         0   \n",
       "\n",
       "                                               tokens  \n",
       "78  [▁user, ▁varushama, ▁oombi, nu, ▁irukan, ▁thay...  \n",
       "79     [▁user, ▁hit, ▁nee, gro, ▁koothi, ▁viju, voli]  \n",
       "80  [▁user, ▁years, ▁old, ▁at, ▁the, ▁last, ▁year,...  \n",
       "81  [▁user, ▁million, ▁subscribers, ▁irukura, ▁app...  \n",
       "82  [▁user, ▁pera, ▁follow, ▁pannuvan, ▁but, ▁id, ...  \n",
       "83  [▁user, ▁day, ▁post, ▁semaya, ▁podunga, ▁vaalt...  \n",
       "84  [▁user, ▁la, ▁out, ▁of, ▁persons, ▁chennai, ▁i...  "
      ]
     },
     "execution_count": 64,
     "metadata": {},
     "output_type": "execute_result"
    }
   ],
   "source": [
    "df[\"tokens\"] = tokenizer.tokenizer(df[\"text\"].tolist())\n",
    "df[78:85]"
   ]
  },
  {
   "cell_type": "code",
   "execution_count": 65,
   "metadata": {},
   "outputs": [],
   "source": [
    "df[\"encoded\"] = df[\"tokens\"].apply(lambda tokens: [tokenizer.sp.PieceToId(piece) for piece in tokens])"
   ]
  },
  {
   "cell_type": "code",
   "execution_count": 66,
   "metadata": {},
   "outputs": [
    {
     "name": "stdout",
     "output_type": "stream",
     "text": [
      "Maximum Token Index in Dataset: 170250\n"
     ]
    }
   ],
   "source": [
    "max_token_id = max([max(seq) for seq in df[\"encoded\"] if len(seq) > 0])\n",
    "print(\"Maximum Token Index in Dataset:\", max_token_id)"
   ]
  },
  {
   "cell_type": "code",
   "execution_count": 67,
   "metadata": {},
   "outputs": [],
   "source": [
    "X_padded = pad_sequences(df[\"encoded\"].tolist(), maxlen=MAX_SEQUENCE_LENGTH, padding=\"post\")"
   ]
  },
  {
   "cell_type": "code",
   "execution_count": 68,
   "metadata": {},
   "outputs": [
    {
     "data": {
      "text/html": [
       "<div>\n",
       "<style scoped>\n",
       "    .dataframe tbody tr th:only-of-type {\n",
       "        vertical-align: middle;\n",
       "    }\n",
       "\n",
       "    .dataframe tbody tr th {\n",
       "        vertical-align: top;\n",
       "    }\n",
       "\n",
       "    .dataframe thead th {\n",
       "        text-align: right;\n",
       "    }\n",
       "</style>\n",
       "<table border=\"1\" class=\"dataframe\">\n",
       "  <thead>\n",
       "    <tr style=\"text-align: right;\">\n",
       "      <th></th>\n",
       "      <th>text</th>\n",
       "      <th>category</th>\n",
       "      <th>tokens</th>\n",
       "      <th>encoded</th>\n",
       "    </tr>\n",
       "  </thead>\n",
       "  <tbody>\n",
       "    <tr>\n",
       "      <th>0</th>\n",
       "      <td>yesus kristus adalah anak allah yang mati dan ...</td>\n",
       "      <td>0</td>\n",
       "      <td>[▁yesu, s, ▁krist, us, ▁adalah, ▁anak, ▁allah,...</td>\n",
       "      <td>[18698, 17, 28189, 955, 42607, 21681, 9941, 16...</td>\n",
       "    </tr>\n",
       "    <tr>\n",
       "      <th>1</th>\n",
       "      <td>trending never ever give up</td>\n",
       "      <td>0</td>\n",
       "      <td>[▁trending, ▁never, ▁ever, ▁give, ▁up]</td>\n",
       "      <td>[680, 2793, 1597, 2815, 696]</td>\n",
       "    </tr>\n",
       "    <tr>\n",
       "      <th>2</th>\n",
       "      <td>i set your screens on vaa thalaiva</td>\n",
       "      <td>0</td>\n",
       "      <td>[▁i, ▁set, ▁your, ▁screens, ▁on, ▁vaa, ▁thalaiva]</td>\n",
       "      <td>[129, 1044, 1081, 12845, 393, 398, 325]</td>\n",
       "    </tr>\n",
       "    <tr>\n",
       "      <th>3</th>\n",
       "      <td>trending in singapore australia</td>\n",
       "      <td>0</td>\n",
       "      <td>[▁trending, ▁in, ▁singapore, ▁australia]</td>\n",
       "      <td>[680, 137, 31714, 29049]</td>\n",
       "    </tr>\n",
       "    <tr>\n",
       "      <th>4</th>\n",
       "      <td>aarambam ajith arya compo🤩 kaappan surya arya ...</td>\n",
       "      <td>0</td>\n",
       "      <td>[▁aarambam, ▁ajith, ▁arya, ▁compo, 🤩, ▁kaappan...</td>\n",
       "      <td>[8304, 322, 6738, 20733, 3128, 5505, 239, 6738...</td>\n",
       "    </tr>\n",
       "  </tbody>\n",
       "</table>\n",
       "</div>"
      ],
      "text/plain": [
       "                                                text  category  \\\n",
       "0  yesus kristus adalah anak allah yang mati dan ...         0   \n",
       "1                        trending never ever give up         0   \n",
       "2                 i set your screens on vaa thalaiva         0   \n",
       "3                    trending in singapore australia         0   \n",
       "4  aarambam ajith arya compo🤩 kaappan surya arya ...         0   \n",
       "\n",
       "                                              tokens  \\\n",
       "0  [▁yesu, s, ▁krist, us, ▁adalah, ▁anak, ▁allah,...   \n",
       "1             [▁trending, ▁never, ▁ever, ▁give, ▁up]   \n",
       "2  [▁i, ▁set, ▁your, ▁screens, ▁on, ▁vaa, ▁thalaiva]   \n",
       "3           [▁trending, ▁in, ▁singapore, ▁australia]   \n",
       "4  [▁aarambam, ▁ajith, ▁arya, ▁compo, 🤩, ▁kaappan...   \n",
       "\n",
       "                                             encoded  \n",
       "0  [18698, 17, 28189, 955, 42607, 21681, 9941, 16...  \n",
       "1                       [680, 2793, 1597, 2815, 696]  \n",
       "2            [129, 1044, 1081, 12845, 393, 398, 325]  \n",
       "3                           [680, 137, 31714, 29049]  \n",
       "4  [8304, 322, 6738, 20733, 3128, 5505, 239, 6738...  "
      ]
     },
     "execution_count": 68,
     "metadata": {},
     "output_type": "execute_result"
    }
   ],
   "source": [
    "df.head()"
   ]
  },
  {
   "cell_type": "code",
   "execution_count": 69,
   "metadata": {},
   "outputs": [],
   "source": [
    "X_padded = pad_sequences(df[\"encoded\"].tolist(), maxlen=MAX_SEQUENCE_LENGTH, padding=\"post\")\n",
    "y = df[\"category\"].values\n"
   ]
  },
  {
   "cell_type": "code",
   "execution_count": 70,
   "metadata": {},
   "outputs": [
    {
     "name": "stdout",
     "output_type": "stream",
     "text": [
      "[[18698    17 28189 ...     0     0     0]\n",
      " [  680  2793  1597 ...     0     0     0]\n",
      " [  129  1044  1081 ...     0     0     0]\n",
      " ...\n",
      " [19895  1226   290 ...     0     0     0]\n",
      " [ 3215 19895 29648 ...     0     0     0]\n",
      " [ 3215 19895   707 ...     0     0     0]]\n",
      "[0 0 0 ... 1 1 1]\n",
      "70\n"
     ]
    }
   ],
   "source": [
    "print(X_padded)\n",
    "print(y)\n",
    "\n",
    "print(len(X_padded[0]))"
   ]
  },
  {
   "cell_type": "code",
   "execution_count": 71,
   "metadata": {},
   "outputs": [],
   "source": [
    "X_train, X_test, y_train, y_test = train_test_split(X_padded, y, test_size=0.3, random_state=42, stratify=y)"
   ]
  },
  {
   "cell_type": "code",
   "execution_count": 72,
   "metadata": {},
   "outputs": [
    {
     "name": "stderr",
     "output_type": "stream",
     "text": [
      "d:\\FYP2\\Audio_model\\venv\\Lib\\site-packages\\keras\\src\\layers\\core\\embedding.py:90: UserWarning: Argument `input_length` is deprecated. Just remove it.\n",
      "  warnings.warn(\n"
     ]
    }
   ],
   "source": [
    "model = Sequential([\n",
    "    Embedding(input_dim=max_token_id+1, output_dim=EMBEDDING_DIM, input_length=MAX_SEQUENCE_LENGTH),\n",
    "    SpatialDropout1D(0.2),\n",
    "    Bidirectional(LSTM(LSTM_UNITS, return_sequences=True)),  # BiLSTM Layer\n",
    "    Bidirectional(LSTM(LSTM_UNITS)),  # Another BiLSTM\n",
    "    Dropout(0.3),\n",
    "    Dense(64, activation=\"relu\"),\n",
    "    Dropout(0.3),\n",
    "    Dense(len(label_mapping), activation=\"softmax\")  # Multi-class classification\n",
    "])"
   ]
  },
  {
   "cell_type": "code",
   "execution_count": 73,
   "metadata": {},
   "outputs": [],
   "source": [
    "model.compile(loss=\"sparse_categorical_crossentropy\", optimizer=Adam(learning_rate=0.001), metrics=[\"accuracy\"])"
   ]
  },
  {
   "cell_type": "code",
   "execution_count": 74,
   "metadata": {},
   "outputs": [
    {
     "name": "stdout",
     "output_type": "stream",
     "text": [
      "Epoch 1/10\n",
      "\u001b[1m290/290\u001b[0m \u001b[32m━━━━━━━━━━━━━━━━━━━━\u001b[0m\u001b[37m\u001b[0m \u001b[1m100s\u001b[0m 314ms/step - accuracy: 0.7628 - loss: 0.4586 - val_accuracy: 0.9374 - val_loss: 0.1652\n",
      "Epoch 2/10\n",
      "\u001b[1m290/290\u001b[0m \u001b[32m━━━━━━━━━━━━━━━━━━━━\u001b[0m\u001b[37m\u001b[0m \u001b[1m90s\u001b[0m 310ms/step - accuracy: 0.9822 - loss: 0.0605 - val_accuracy: 0.9482 - val_loss: 0.1431\n",
      "Epoch 3/10\n",
      "\u001b[1m290/290\u001b[0m \u001b[32m━━━━━━━━━━━━━━━━━━━━\u001b[0m\u001b[37m\u001b[0m \u001b[1m93s\u001b[0m 319ms/step - accuracy: 0.9932 - loss: 0.0285 - val_accuracy: 0.9515 - val_loss: 0.1494\n",
      "Epoch 4/10\n",
      "\u001b[1m290/290\u001b[0m \u001b[32m━━━━━━━━━━━━━━━━━━━━\u001b[0m\u001b[37m\u001b[0m \u001b[1m92s\u001b[0m 318ms/step - accuracy: 0.9947 - loss: 0.0194 - val_accuracy: 0.9552 - val_loss: 0.1736\n",
      "Epoch 5/10\n",
      "\u001b[1m290/290\u001b[0m \u001b[32m━━━━━━━━━━━━━━━━━━━━\u001b[0m\u001b[37m\u001b[0m \u001b[1m93s\u001b[0m 320ms/step - accuracy: 0.9977 - loss: 0.0099 - val_accuracy: 0.9474 - val_loss: 0.2449\n",
      "Epoch 6/10\n",
      "\u001b[1m290/290\u001b[0m \u001b[32m━━━━━━━━━━━━━━━━━━━━\u001b[0m\u001b[37m\u001b[0m \u001b[1m96s\u001b[0m 330ms/step - accuracy: 0.9961 - loss: 0.0161 - val_accuracy: 0.9515 - val_loss: 0.2688\n",
      "Epoch 7/10\n",
      "\u001b[1m290/290\u001b[0m \u001b[32m━━━━━━━━━━━━━━━━━━━━\u001b[0m\u001b[37m\u001b[0m \u001b[1m94s\u001b[0m 324ms/step - accuracy: 0.9966 - loss: 0.0124 - val_accuracy: 0.9479 - val_loss: 0.2767\n",
      "Epoch 8/10\n",
      "\u001b[1m290/290\u001b[0m \u001b[32m━━━━━━━━━━━━━━━━━━━━\u001b[0m\u001b[37m\u001b[0m \u001b[1m94s\u001b[0m 323ms/step - accuracy: 0.9947 - loss: 0.0135 - val_accuracy: 0.9489 - val_loss: 0.2879\n",
      "Epoch 9/10\n",
      "\u001b[1m290/290\u001b[0m \u001b[32m━━━━━━━━━━━━━━━━━━━━\u001b[0m\u001b[37m\u001b[0m \u001b[1m94s\u001b[0m 326ms/step - accuracy: 0.9968 - loss: 0.0058 - val_accuracy: 0.9482 - val_loss: 0.3315\n",
      "Epoch 10/10\n",
      "\u001b[1m290/290\u001b[0m \u001b[32m━━━━━━━━━━━━━━━━━━━━\u001b[0m\u001b[37m\u001b[0m \u001b[1m95s\u001b[0m 326ms/step - accuracy: 0.9975 - loss: 0.0067 - val_accuracy: 0.9512 - val_loss: 0.3320\n"
     ]
    },
    {
     "data": {
      "text/plain": [
       "<keras.src.callbacks.history.History at 0x1cf07b1f9e0>"
      ]
     },
     "execution_count": 74,
     "metadata": {},
     "output_type": "execute_result"
    }
   ],
   "source": [
    "model.fit(X_train, np.array(y_train), batch_size=BATCH_SIZE, epochs=EPOCHS, validation_data=(X_test, np.array(y_test)))"
   ]
  },
  {
   "cell_type": "code",
   "execution_count": 75,
   "metadata": {},
   "outputs": [
    {
     "name": "stdout",
     "output_type": "stream",
     "text": [
      "\u001b[1m125/125\u001b[0m \u001b[32m━━━━━━━━━━━━━━━━━━━━\u001b[0m\u001b[37m\u001b[0m \u001b[1m11s\u001b[0m 85ms/step\n"
     ]
    }
   ],
   "source": [
    "y_pred_probs = model.predict(X_test)\n",
    "y_pred = np.argmax(y_pred_probs, axis=1)"
   ]
  },
  {
   "cell_type": "code",
   "execution_count": 76,
   "metadata": {},
   "outputs": [
    {
     "name": "stdout",
     "output_type": "stream",
     "text": [
      "Accuracy: 0.9512\n",
      "\n",
      "Classification Report:\n",
      "               precision    recall  f1-score   support\n",
      "\n",
      "           0       0.96      0.95      0.96      2283\n",
      "           1       0.94      0.95      0.94      1693\n",
      "\n",
      "    accuracy                           0.95      3976\n",
      "   macro avg       0.95      0.95      0.95      3976\n",
      "weighted avg       0.95      0.95      0.95      3976\n",
      "\n"
     ]
    }
   ],
   "source": [
    "accuracy = accuracy_score(y_test, y_pred)\n",
    "print(f\"Accuracy: {accuracy:.4f}\")  # Print accuracy\n",
    "print(\"\\nClassification Report:\\n\", classification_report(y_test, y_pred))"
   ]
  },
  {
   "cell_type": "code",
   "execution_count": 111,
   "metadata": {},
   "outputs": [
    {
     "data": {
      "image/png": "[encoded data removed]",
      "text/plain": [
       "<Figure size 600x500 with 2 Axes>"
      ]
     },
     "metadata": {},
     "output_type": "display_data"
    }
   ],
   "source": [
    "import matplotlib.pyplot as plt\n",
    "from sklearn.metrics import confusion_matrix\n",
    "import seaborn as sns\n",
    "\n",
    "cm = confusion_matrix(y_test, y_pred)\n",
    "plt.figure(figsize=(6, 5))\n",
    "sns.heatmap(cm, annot=True, fmt=\"d\", cmap=\"Blues\", xticklabels=label_mapping.keys(), yticklabels=label_mapping.keys())\n",
    "plt.xlabel(\"Predicted Labels\")\n",
    "plt.ylabel(\"True Labels\")\n",
    "plt.title(\"Confusion Matrix\")\n",
    "plt.show()"
   ]
  },
  {
   "cell_type": "code",
   "execution_count": 112,
   "metadata": {},
   "outputs": [
    {
     "data": {
      "image/png": "[encoded data removed]",
      "text/plain": [
       "<Figure size 600x500 with 2 Axes>"
      ]
     },
     "metadata": {},
     "output_type": "display_data"
    },
    {
     "name": "stdout",
     "output_type": "stream",
     "text": [
      "Misclassified samples saved to misclassified_samples.txt\n"
     ]
    }
   ],
   "source": [
    "import matplotlib.pyplot as plt\n",
    "from sklearn.metrics import confusion_matrix\n",
    "import seaborn as sns\n",
    "import numpy as np\n",
    "\n",
    "# Ensure y_test and y_pred are NumPy arrays\n",
    "y_test = np.array(y_test)\n",
    "y_pred = np.array(y_pred)\n",
    "\n",
    "# Compute confusion matrix\n",
    "cm = confusion_matrix(y_test, y_pred)\n",
    "\n",
    "# Plot confusion matrix\n",
    "plt.figure(figsize=(6, 5))\n",
    "sns.heatmap(cm, annot=True, fmt=\"d\", cmap=\"Blues\", xticklabels=label_mapping.keys(), yticklabels=label_mapping.keys())\n",
    "plt.xlabel(\"Predicted Labels\")\n",
    "plt.ylabel(\"True Labels\")\n",
    "plt.title(\"Confusion Matrix\")\n",
    "plt.show()\n",
    "\n",
    "# Identify misclassified samples\n",
    "misclassified_indices = np.where(y_test != y_pred)[0]  # Get indices where prediction is incorrect\n",
    "\n",
    "# Open file to store misclassified texts\n",
    "with open(\"misclassified_samples.txt\", \"w\", encoding=\"utf-8\") as file:\n",
    "    for i in misclassified_indices:\n",
    "        text = X_test[i]  # Extract misclassified text\n",
    "        true_label = y_test[i]  # Get true label\n",
    "        pred_label = y_pred[i]  # Get predicted label\n",
    "        file.write(f\"Text: {text}\\nTrue Label: {true_label}\\nPredicted Label: {pred_label}\\n\\n\")\n",
    "\n",
    "print(\"Misclassified samples saved to misclassified_samples.txt\")\n"
   ]
  },
  {
   "cell_type": "code",
   "execution_count": 117,
   "metadata": {},
   "outputs": [
    {
     "name": "stdout",
     "output_type": "stream",
     "text": [
      "\u001b[1m1/1\u001b[0m \u001b[32m━━━━━━━━━━━━━━━━━━━━\u001b[0m\u001b[37m\u001b[0m \u001b[1m0s\u001b[0m 138ms/step\n",
      "[[0.12659357 0.87340647]]\n",
      "[1]\n"
     ]
    }
   ],
   "source": [
    "test_texts = [\"d\"]\n",
    "test_texts_cleaned = [preprocess_text(text) for text in test_texts]\n",
    "test_texts_tokenized = tokenizer.tokenizer(test_texts_cleaned)\n",
    "test_texts_encoded = [tokenizer.sp.PieceToId(piece) for text in test_texts_tokenized for piece in text]\n",
    "test_texts_padded = pad_sequences([test_texts_encoded], maxlen=MAX_SEQUENCE_LENGTH, padding=\"post\")\n",
    "#print(test_texts_padded)\n",
    "\n",
    "predictions = model.predict(test_texts_padded)\n",
    "predicted_labels = np.argmax(predictions, axis=1)\n",
    "\n",
    "print(predictions)\n",
    "print(predicted_labels)\n"
   ]
  },
  {
   "cell_type": "code",
   "execution_count": 88,
   "metadata": {},
   "outputs": [
    {
     "name": "stderr",
     "output_type": "stream",
     "text": [
      "WARNING:absl:You are saving your model as an HDF5 file via `model.save()` or `keras.saving.save_model(model)`. This file format is considered legacy. We recommend using instead the native Keras format, e.g. `model.save('my_model.keras')` or `keras.saving.save_model(model, 'my_model.keras')`. \n"
     ]
    }
   ],
   "source": [
    "model.save(\"bilstm_model1.h5\")"
   ]
  },
  {
   "cell_type": "code",
   "execution_count": 18,
   "metadata": {},
   "outputs": [
    {
     "name": "stdout",
     "output_type": "stream",
     "text": [
      "Saved successfully\n"
     ]
    }
   ],
   "source": [
    "s1 = df[(df[\"text\"].str.contains(r\"\\bumbu\\b\", case=False, na=False)) & (df[\"category\"] == \"OFF\")][\"text\"]\n",
    "s1.to_csv(\"./temp/umbu.txt\", index=False, header=False)\n",
    "print(\"Saved successfully\")"
   ]
  },
  {
   "cell_type": "code",
   "execution_count": 41,
   "metadata": {},
   "outputs": [],
   "source": [
    "# Open the original file and read lines\n",
    "with open(\"./temp/kuthi.txt\", \"r\", encoding=\"utf-8\") as file:\n",
    "    lines = file.readlines()\n",
    "\n",
    "# Open the new file to write modified sentences\n",
    "with open(\"./temp/new/kuthi_new.txt\", \"w\", encoding=\"utf-8\") as file:\n",
    "    for line in lines:\n",
    "        line = line.strip()  # Remove any extra spaces or newlines\n",
    "        #file.write(line + \"\\n\")  # Write the original line\n",
    "        file.write(re.sub(r\"\\bkuthi\\b\", \"koothi\", line, flags=re.IGNORECASE) + \"\\n\")\n",
    "        #file.write(re.sub(r\"\\bgommala\\b\", \"ommaala\", line, flags=re.IGNORECASE) + \"\\n\")\n"
   ]
  },
  {
   "cell_type": "code",
   "execution_count": 45,
   "metadata": {},
   "outputs": [
    {
     "name": "stdout",
     "output_type": "stream",
     "text": [
      "Dataset has been saved as 'dataset.csv'.\n"
     ]
    }
   ],
   "source": [
    "import os\n",
    "import pandas as pd\n",
    "\n",
    "# Define the folder where text files are stored\n",
    "folder_path = \"./temp/new\"  # Change this to your actual folder path\n",
    "\n",
    "# List to store sentences\n",
    "sentences = []\n",
    "\n",
    "# Read each text file in the folder\n",
    "for filename in os.listdir(folder_path):\n",
    "    if filename.endswith(\".txt\"):  # Ensure only text files are processed\n",
    "        file_path = os.path.join(folder_path, filename)\n",
    "        \n",
    "        with open(file_path, \"r\", encoding=\"utf-8\") as file:\n",
    "            for line in file:\n",
    "                line = line.strip()\n",
    "                if line:  # Ignore empty lines\n",
    "                    sentences.append(line)\n",
    "\n",
    "# Create a DataFrame with sentences and label \"OFF\"\n",
    "df = pd.DataFrame({\"text\": sentences, \"category\": \"OFF\"})\n",
    "\n",
    "# Save the dataset to a CSV file\n",
    "df.to_csv(\"dataset.csv\", index=False, encoding=\"utf-8\")\n",
    "\n",
    "print(\"Dataset has been saved as 'dataset.csv'.\")\n"
   ]
  },
  {
   "cell_type": "code",
   "execution_count": 46,
   "metadata": {},
   "outputs": [
    {
     "name": "stdout",
     "output_type": "stream",
     "text": [
      "Merged dataset has been saved as 'main_dataset.csv'.\n"
     ]
    }
   ],
   "source": [
    "import pandas as pd\n",
    "\n",
    "# Load both datasets\n",
    "df1 = pd.read_csv(\"main1.csv\")  # Change filename accordingly\n",
    "df2 = pd.read_csv(\"dataset.csv\")  # Change filename accordingly\n",
    "\n",
    "# Merge both datasets (concatenate rows)\n",
    "final_df = pd.concat([df1, df2], ignore_index=True)\n",
    "\n",
    "# Save the final merged dataset\n",
    "final_df.to_csv(\"main_dataset.csv\", index=False, encoding=\"utf-8\")\n",
    "\n",
    "print(\"Merged dataset has been saved as 'main_dataset.csv'.\")\n"
   ]
  },
  {
   "cell_type": "code",
   "execution_count": 47,
   "metadata": {},
   "outputs": [
    {
     "name": "stdout",
     "output_type": "stream",
     "text": [
      "Count of 0s: 7609\n",
      "Count of 1s: 5643\n"
     ]
    }
   ],
   "source": [
    "import pandas as pd\n",
    "\n",
    "# Example: Load dataset (if not already loaded)\n",
    "df = pd.read_csv(\"main_dataset.csv\")\n",
    "\n",
    "# Count occurrences of each label\n",
    "count_0 = (df[\"category\"] == \"NOT\").sum()\n",
    "count_1 = (df[\"category\"] == \"OFF\").sum()\n",
    "\n",
    "print(f\"Count of 0s: {count_0}\")\n",
    "print(f\"Count of 1s: {count_1}\")\n"
   ]
  },
  {
   "cell_type": "code",
   "execution_count": 107,
   "metadata": {},
   "outputs": [],
   "source": [
    "t_df = df[(df[\"category\"] == 1)][\"text\"]"
   ]
  },
  {
   "cell_type": "code",
   "execution_count": 108,
   "metadata": {},
   "outputs": [
    {
     "data": {
      "text/plain": [
       "14    tag tag fans of elumban vaai punda athigam tha...\n",
       "19    tag etag etag nangala police thookula podanum ...\n",
       "21    tag kiss you the tamilnadu policeman you and y...\n",
       "22    tag mami returns with an anal structure in the...\n",
       "23    tag mutta pundai gal kadharal refer the panuna...\n",
       "Name: text, dtype: object"
      ]
     },
     "execution_count": 108,
     "metadata": {},
     "output_type": "execute_result"
    }
   ],
   "source": [
    "t_df.head()"
   ]
  },
  {
   "cell_type": "code",
   "execution_count": 109,
   "metadata": {},
   "outputs": [],
   "source": [
    "t_df.to_csv(\"hate_only.csv\", index=False, encoding=\"utf-8\")"
   ]
  },
  {
   "cell_type": "code",
   "execution_count": 114,
   "metadata": {},
   "outputs": [
    {
     "name": "stdout",
     "output_type": "stream",
     "text": [
      "Misclassified samples saved to misclassified_samples.txt\n"
     ]
    }
   ],
   "source": [
    "import sentencepiece as spm\n",
    "import numpy as np\n",
    "\n",
    "# Load your trained SentencePiece model\n",
    "sp = spm.SentencePieceProcessor()\n",
    "sp.load(\"../Tokenizer/Tanglish/taen_spm.model\")  # Replace with your actual SentencePiece model file\n",
    "\n",
    "misclassified_indices = np.where(y_test != y_pred)[0]  # Get indices of misclassified samples\n",
    "\n",
    "with open(\"misclassified_samples.txt\", \"w\", encoding=\"utf-8\") as file:\n",
    "    for i in misclassified_indices:\n",
    "        tokens = X_test[i]  # Get tokenized sequence\n",
    "        text = sp.decode(tokens.tolist())  # Convert tokenized sequence back to text\n",
    "        true_label = y_test[i]\n",
    "        pred_label = y_pred[i]\n",
    "        file.write(f\"Text: {text}\\nTrue Label: {true_label}\\nPredicted Label: {pred_label}\\n\\n\")\n",
    "\n",
    "print(\"Misclassified samples saved to misclassified_samples.txt\")\n"
   ]
  },
  {
   "cell_type": "code",
   "execution_count": null,
   "metadata": {},
   "outputs": [],
   "source": []
  }
 ],
 "metadata": {
  "kernelspec": {
   "display_name": "venv",
   "language": "python",
   "name": "python3"
  },
  "language_info": {
   "codemirror_mode": {
    "name": "ipython",
    "version": 3
   },
   "file_extension": ".py",
   "mimetype": "text/x-python",
   "name": "python",
   "nbconvert_exporter": "python",
   "pygments_lexer": "ipython3",
   "version": "3.12.6"
  }
 },
 "nbformat": 4,
 "nbformat_minor": 2
}
